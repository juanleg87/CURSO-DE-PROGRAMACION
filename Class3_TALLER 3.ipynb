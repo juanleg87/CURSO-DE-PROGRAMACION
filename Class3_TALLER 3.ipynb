{
  "nbformat": 4,
  "nbformat_minor": 0,
  "metadata": {
    "colab": {
      "provenance": []
    },
    "kernelspec": {
      "name": "python3",
      "display_name": "Python 3"
    },
    "language_info": {
      "name": "python"
    }
  },
  "cells": [
    {
      "cell_type": "markdown",
      "source": [
        "#***SENTENCIAS CONDICIONALES EN PYTHON***"
      ],
      "metadata": {
        "id": "mX77fFyXd8R5"
      }
    },
    {
      "cell_type": "code",
      "execution_count": null,
      "metadata": {
        "colab": {
          "base_uri": "https://localhost:8080/"
        },
        "id": "moazJHy0c3o0",
        "outputId": "2cd44b7c-a239-4545-f246-39ed4b77a041"
      },
      "outputs": [
        {
          "output_type": "stream",
          "name": "stdout",
          "text": [
            "Los números NO son iguales\n"
          ]
        }
      ],
      "source": [
        "num1 = 7\n",
        "num2 = 3\n",
        "\n",
        "if num1 == num2:\n",
        "  print(\"Los números son iguales\")\n",
        "else:\n",
        "  print(\"Los números NO son iguales\")"
      ]
    },
    {
      "cell_type": "markdown",
      "source": [
        "**OPERADORES RELACIONAES**"
      ],
      "metadata": {
        "id": "FowmUJewfRqi"
      }
    },
    {
      "cell_type": "markdown",
      "source": [
        "**>** mayor que, **<** menor que, **>=** mayor o igual que, **<=** menor o igual que, **==** igual que, **!=** diferente que,ambos debe ser iguales **and**, uno de los debe ser verdadero **or**, **in** texto inmerso en otro"
      ],
      "metadata": {
        "id": "V0zARFkffTlo"
      }
    },
    {
      "cell_type": "code",
      "source": [
        "usuario = input(\"Digite su usuario: \")\n",
        "usu = \"carlos1708\"\n",
        "\n",
        "if usuario == usu:\n",
        "  print(\"EL usuario es correcto!\")\n",
        "else:\n",
        "  print(\"El usuario es Incorrecto!\")"
      ],
      "metadata": {
        "colab": {
          "base_uri": "https://localhost:8080/"
        },
        "id": "kieEMOmCfROD",
        "outputId": "c250ed84-7d4e-4eae-8e2b-cb84d52de01e"
      },
      "execution_count": null,
      "outputs": [
        {
          "output_type": "stream",
          "name": "stdout",
          "text": [
            "Digite su usuario: juan\n",
            "El usuario es Incorrecto!\n"
          ]
        }
      ]
    },
    {
      "cell_type": "code",
      "source": [
        "num = int(input(\"Digite el número: \"))\n",
        "\n",
        "if num > 20:\n",
        "  print(\"El número es mayor a 20\")\n",
        "elif num > 15:\n",
        "  print(\"El número es mayor a 15\")\n",
        "elif num > 10:\n",
        "  print(\"El número es mayor a 10\")\n",
        "elif num > 5:\n",
        "  print(\"El número es mayor a 5\")\n",
        "else:\n",
        "  print(\"NO se cumple ninguna condición!\")"
      ],
      "metadata": {
        "colab": {
          "base_uri": "https://localhost:8080/"
        },
        "id": "d2YKAs7zg6pt",
        "outputId": "736d2988-ecff-4329-c735-b6bde81612c4"
      },
      "execution_count": null,
      "outputs": [
        {
          "output_type": "stream",
          "name": "stdout",
          "text": [
            "Digite el número: 21\n",
            "El número es mayor a 20\n"
          ]
        }
      ]
    },
    {
      "cell_type": "code",
      "source": [
        "edad = int(input(\"Digite su edad: \"))\n",
        "\n",
        "if edad >= 13 and edad < 20:\n",
        "  print(\"Eres un Adolescente\")\n",
        "else:\n",
        "  print(\"No eres un adolescente\")"
      ],
      "metadata": {
        "id": "BXk4dXNqiruS"
      },
      "execution_count": null,
      "outputs": []
    },
    {
      "cell_type": "code",
      "source": [
        "palabra = input(\"Digite la palabra: \")\n",
        "\n",
        "if palabra in \"lina catalina\":\n",
        "  print(\"Verdadero!!\")\n",
        "else:\n",
        "  print(\"Falso\")"
      ],
      "metadata": {
        "colab": {
          "base_uri": "https://localhost:8080/"
        },
        "id": "tQyPe7BljV4c",
        "outputId": "43be0abb-093b-4e2b-d32f-a53e7c6888ab"
      },
      "execution_count": null,
      "outputs": [
        {
          "output_type": "stream",
          "name": "stdout",
          "text": [
            "Digite la palabra: lina catalina\n",
            "Verdadero!!\n"
          ]
        }
      ]
    },
    {
      "cell_type": "markdown",
      "source": [
        "Se necesita un sistema para un supermercado, el cual dará un 10% de descuento a las personas que compren más de $1000000 de lo contrario no dará ningún descuento, al cliente se le debe de dar el total a pagar. Condicional."
      ],
      "metadata": {
        "id": "SLUOe5JykJHM"
      }
    },
    {
      "cell_type": "code",
      "source": [
        "compra = float(input(\"¿Cuanto fue el total de la compra? $\"))\n",
        "\n",
        "if compra > 1000000:\n",
        "  descu = compra * 0.10\n",
        "  total = compra - descu\n",
        "  print(\"El descuento es =${:,.0f} y el total a pagar es= {:,.0f}\".format(descu, total))\n",
        "else:\n",
        "  print(\"No tiene descuento, el total a pagar es= ${:,.0f}\".format(compra))"
      ],
      "metadata": {
        "colab": {
          "base_uri": "https://localhost:8080/"
        },
        "id": "JpCHefqskJ-a",
        "outputId": "a45edfc7-cd7e-444f-d440-c0dcfe08fb63"
      },
      "execution_count": null,
      "outputs": [
        {
          "output_type": "stream",
          "name": "stdout",
          "text": [
            "¿Cuanto fue el total de la compra? $15\n",
            "No tiene descuento, el total a pagar es= $15\n"
          ]
        }
      ]
    },
    {
      "cell_type": "markdown",
      "source": [
        "Se necesita un sistema que reciba tres calificaciones parciales de un alumno y en base a estas darle su promedio donde si el promedio es menor a 3.0 se le dirá que esta reprobado, en caso contrario el mensaje será aprobado. Condicional."
      ],
      "metadata": {
        "id": "cV93fBJDlTBA"
      }
    },
    {
      "cell_type": "code",
      "source": [
        "cal1 = float(input(\"Digite la calificaicón 1: \"))\n",
        "cal2 = float(input(\"Digite la calificaicón 2: \"))\n",
        "cal3 = float(input(\"Digite la calificaicón 3: \"))\n",
        "\n",
        "prom = round((cal1 + cal2 + cal3)/3, 2)\n",
        "\n",
        "if prom < 3.0:\n",
        "  estado = \"Reprobado--\"\n",
        "else:\n",
        "  estado = \"Aprobado++\"\n",
        "print(f\"El promedio es = {prom} y el estado es = {estado}\")"
      ],
      "metadata": {
        "colab": {
          "base_uri": "https://localhost:8080/"
        },
        "id": "4keVMknWlTvv",
        "outputId": "75c02865-fcb2-4600-d963-e2d4f6c8ef4f"
      },
      "execution_count": null,
      "outputs": [
        {
          "output_type": "stream",
          "name": "stdout",
          "text": [
            "Digite la calificaicón 1: 4.5\n",
            "Digite la calificaicón 2: 3.7\n",
            "Digite la calificaicón 3: 1.2\n",
            "El promedio es = 3.133333333333333 y el estado es = Aprobado++\n"
          ]
        }
      ]
    },
    {
      "cell_type": "markdown",
      "source": [
        "**Taller 2:**\n",
        "\n",
        "Dando continuidad con la primera entrega del proyecto, en esta oportunidad el estudiante debe realizar las siguientes validaciones utilizando la sentencia condicional IF.\n",
        "1.\tSi el empleado es mayor de 55 años disfrutará de un bono de prepensión correspondiente al 5% de su sueldo básico.\n",
        "2.\tSi el empleado es casado y tiene hijos se le otorgará un paseo cada diciembre\n",
        " \n",
        "3.\tSi el sueldo básico está entre 1000000 y 1500000 tendrá una comisión del 2% sobre el valor del sueldo; Si el sueldo básico está entre 1500001 y 2000000 tendrá una comisión del 5% sobre el valor del sueldo; para todos los demás casos no habrá comisión.\n",
        "4.\tSi el empleado trabajó más de 20 días al mes y su sueldo es menor a 1000000 tendrá derecho a un bono de alimentación."
      ],
      "metadata": {
        "id": "d1-1emv3o8Oo"
      }
    },
    {
      "cell_type": "markdown",
      "source": [
        "#***SOLUCION TALLER***"
      ],
      "metadata": {
        "id": "HHjCbO1Valkp"
      }
    },
    {
      "cell_type": "markdown",
      "source": [
        "Si el empleado es mayor de 55 años disfrutará de un bono de prepensión correspondiente al 5% de su sueldo básico Respuesta:"
      ],
      "metadata": {
        "id": "SpYNbltmiYHM"
      }
    },
    {
      "cell_type": "code",
      "source": [
        "from ast import If\n",
        "años = int(input(\"cuantos años tienes?\"))\n",
        "edad = int(input(\"Digite su edad: \"))\n",
        "\n",
        "if edad > 55 and edad > 54:\n",
        "  print(\"RECIBE BONO\")\n",
        "else:\n",
        "  print(\"No recibe bono\")\n",
        "\n",
        "from traitlets.traitlets import Float\n",
        "sueldo = float(input(\"cuanto es su sueldo:\"))\n",
        "bono = float(input(\"bono 0.5 prepensional\"))\n",
        "\n",
        "total_sueldo_mas_bono = sueldo + bono\n",
        "print(\"se debe pagar\")\n",
        "print(total_sueldo_mas_bono)\n",
        "\n",
        "casado = input(\"es casado?: \")\n",
        "soy_casado = \"casado\"\n",
        "\n",
        "if soy_casado == casado:\n",
        "  print(\"GANA PASEO EN DICIEMBRE!\")\n",
        "else:\n",
        "  print(\"El usuario es Incorrecto!\")"
      ],
      "metadata": {
        "colab": {
          "base_uri": "https://localhost:8080/"
        },
        "id": "MXzT1XcNDHU3",
        "outputId": "ffad2fbf-6ec6-4672-d6f9-13aef3f68e7b"
      },
      "execution_count": null,
      "outputs": [
        {
          "output_type": "stream",
          "name": "stdout",
          "text": [
            "cuantos años tienes?56\n",
            "Digite su edad: 56\n",
            "RECIBE BONO\n",
            "cuanto es su sueldo:100\n",
            "bono 0.5 prepensional10\n",
            "se debe pagar\n",
            "110.0\n"
          ]
        }
      ]
    },
    {
      "cell_type": "markdown",
      "source": [
        "Si el empleado es casado y tiene hijos se le otorgará un paseo cada diciembre"
      ],
      "metadata": {
        "id": "ouAJWag-5tqz"
      }
    },
    {
      "cell_type": "code",
      "source": [
        "casado = input(\"es casado?: \")\n",
        "soy_casado = \"casado\"\n",
        "\n",
        "if soy_casado == casado:\n",
        "  print(\"GANA PASEO EN DICIEMBRE!\")\n",
        "else:\n",
        "  print(\"El usuario es Incorrecto!\")"
      ],
      "metadata": {
        "colab": {
          "base_uri": "https://localhost:8080/"
        },
        "id": "qWOmQwXp4nQ7",
        "outputId": "8c98048f-06a1-47db-d8e3-60a1547153b5"
      },
      "execution_count": null,
      "outputs": [
        {
          "output_type": "stream",
          "name": "stdout",
          "text": [
            "es casado?: casado\n",
            "GANA PASEO EN DICIEMBRE!\n"
          ]
        }
      ]
    },
    {
      "cell_type": "markdown",
      "source": [
        "Si el empleado trabajó más de 20 días al mes y su sueldo es menor a 1000000 tendrá derecho a un bono de alimentación."
      ],
      "metadata": {
        "id": "tQy11KVM6apD"
      }
    },
    {
      "cell_type": "code",
      "source": [
        "Bono_alimentacion = int(input(\"Digite sueldo: \"))\n",
        "\n",
        "if num < 1000000:\n",
        "  print(\"Tiene bono de alimentacion\")\n"
      ],
      "metadata": {
        "colab": {
          "base_uri": "https://localhost:8080/"
        },
        "id": "7jP2_6fX6kKZ",
        "outputId": "b7d768b5-d6b4-4b33-c150-0aed71fbf8cf"
      },
      "execution_count": 206,
      "outputs": [
        {
          "output_type": "stream",
          "name": "stdout",
          "text": [
            "Digite sueldo: 800000\n",
            "Tiene bono de alimentacion\n"
          ]
        }
      ]
    }
  ]
}