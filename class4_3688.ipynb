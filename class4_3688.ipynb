{
  "nbformat": 4,
  "nbformat_minor": 0,
  "metadata": {
    "colab": {
      "provenance": []
    },
    "kernelspec": {
      "name": "python3",
      "display_name": "Python 3"
    },
    "language_info": {
      "name": "python"
    }
  },
  "cells": [
    {
      "cell_type": "markdown",
      "source": [
        "#***CICLOS REPETITIVOS***"
      ],
      "metadata": {
        "id": "bI1elqysEHu4"
      }
    },
    {
      "cell_type": "markdown",
      "source": [
        "#**CICLO FOR**"
      ],
      "metadata": {
        "id": "oOorOZDTEJaB"
      }
    },
    {
      "cell_type": "code",
      "execution_count": null,
      "metadata": {
        "colab": {
          "base_uri": "https://localhost:8080/"
        },
        "id": "Y-sg3qYJEFYI",
        "outputId": "55161c7a-4678-4a1c-a175-10d7e1a6acce"
      },
      "outputs": [
        {
          "output_type": "stream",
          "name": "stdout",
          "text": [
            "1234\n"
          ]
        }
      ],
      "source": [
        "for w in [1234]:\n",
        "  print(w)"
      ]
    },
    {
      "cell_type": "code",
      "source": [
        "for w in (1,2,3,4):\n",
        "  print(w)"
      ],
      "metadata": {
        "colab": {
          "base_uri": "https://localhost:8080/"
        },
        "id": "cKcH39BRNn-Z",
        "outputId": "4eef0f52-473e-4b58-f501-9ed516858d0c"
      },
      "execution_count": null,
      "outputs": [
        {
          "output_type": "stream",
          "name": "stdout",
          "text": [
            "1\n",
            "2\n",
            "3\n",
            "4\n"
          ]
        }
      ]
    },
    {
      "cell_type": "code",
      "source": [
        "for w in \"1,2,3,4\":\n",
        "  print(w)"
      ],
      "metadata": {
        "colab": {
          "base_uri": "https://localhost:8080/"
        },
        "id": "QFK734rJNu5D",
        "outputId": "b6161c0a-765b-4e87-af36-57c4cde3d73b"
      },
      "execution_count": null,
      "outputs": [
        {
          "output_type": "stream",
          "name": "stdout",
          "text": [
            "1\n",
            ",\n",
            "2\n",
            ",\n",
            "3\n",
            ",\n",
            "4\n"
          ]
        }
      ]
    },
    {
      "cell_type": "code",
      "source": [
        "for w in \"Dagoberto\":\n",
        "  print(w)"
      ],
      "metadata": {
        "colab": {
          "base_uri": "https://localhost:8080/"
        },
        "id": "zmzNVEXVNzNB",
        "outputId": "fba97301-05d0-461b-d3ef-7aa381810719"
      },
      "execution_count": null,
      "outputs": [
        {
          "output_type": "stream",
          "name": "stdout",
          "text": [
            "D\n",
            "a\n",
            "g\n",
            "o\n",
            "b\n",
            "e\n",
            "r\n",
            "t\n",
            "o\n"
          ]
        }
      ]
    },
    {
      "cell_type": "markdown",
      "source": [
        "**FUNCIÓN Range(start, stop, step)**"
      ],
      "metadata": {
        "id": "q3kx6wZpODS5"
      }
    },
    {
      "cell_type": "markdown",
      "source": [
        "cuando solo se pasa 1 parámetro a la función Range por default (stop)"
      ],
      "metadata": {
        "id": "n54ekXulOE1M"
      }
    },
    {
      "cell_type": "code",
      "source": [
        "for i in range(0,11,2):\n",
        "  print(i)"
      ],
      "metadata": {
        "colab": {
          "base_uri": "https://localhost:8080/"
        },
        "id": "3rcmNWO5OGxM",
        "outputId": "d9d0a242-8526-4979-a7c5-0baac21cccfb"
      },
      "execution_count": null,
      "outputs": [
        {
          "output_type": "stream",
          "name": "stdout",
          "text": [
            "0\n",
            "2\n",
            "4\n",
            "6\n",
            "8\n",
            "10\n"
          ]
        }
      ]
    },
    {
      "cell_type": "code",
      "source": [
        "nombre = input(\"Digite su nombre: \")\n",
        "\n",
        "for i in range(6):\n",
        "  print(i, nombre)"
      ],
      "metadata": {
        "colab": {
          "base_uri": "https://localhost:8080/"
        },
        "id": "M-gEPMhoO5rY",
        "outputId": "f63316e6-2060-4e91-9cfe-7c94d819abc1"
      },
      "execution_count": null,
      "outputs": [
        {
          "output_type": "stream",
          "name": "stdout",
          "text": [
            "Digite su nombre: Diana\n",
            "0 Diana\n",
            "1 Diana\n",
            "2 Diana\n",
            "3 Diana\n",
            "4 Diana\n",
            "5 Diana\n"
          ]
        }
      ]
    },
    {
      "cell_type": "markdown",
      "source": [
        "Escribir un programa que realice la tabla de multiplicar de un número digitado por teclado"
      ],
      "metadata": {
        "id": "XnSB4sW0PMv-"
      }
    },
    {
      "cell_type": "code",
      "source": [
        "num = int(input(\"Digite el número de la tabla de multiplicar: \"))\n",
        "\n",
        "for i in range(11):\n",
        "  print(i, \" x \", num, \" = \",  i * num)"
      ],
      "metadata": {
        "colab": {
          "base_uri": "https://localhost:8080/"
        },
        "id": "AVbCF2w2PPIC",
        "outputId": "4377610e-05e2-40fd-9c3e-6647a9cd597f"
      },
      "execution_count": null,
      "outputs": [
        {
          "output_type": "stream",
          "name": "stdout",
          "text": [
            "Digite el número de la tabla de multiplicar: 8\n",
            "0  x  8  =  0\n",
            "1  x  8  =  8\n",
            "2  x  8  =  16\n",
            "3  x  8  =  24\n",
            "4  x  8  =  32\n",
            "5  x  8  =  40\n",
            "6  x  8  =  48\n",
            "7  x  8  =  56\n",
            "8  x  8  =  64\n",
            "9  x  8  =  72\n",
            "10  x  8  =  80\n"
          ]
        }
      ]
    },
    {
      "cell_type": "markdown",
      "source": [
        "Escriba un programa que me sume los números pares del 0 al 10 y saque el total de la suma."
      ],
      "metadata": {
        "id": "6NHembOqP4CU"
      }
    },
    {
      "cell_type": "code",
      "source": [
        "# variables acumuladoras\n",
        "acu = 0\n",
        "\n",
        "for i in range(0,11,2):\n",
        "  # print(i)\n",
        "  acu = acu + i\n",
        "print(f\"El total de la suma de los número pares del 0-10= {acu}\")"
      ],
      "metadata": {
        "colab": {
          "base_uri": "https://localhost:8080/"
        },
        "id": "za2e-ocgP4rK",
        "outputId": "31bebd15-d5ad-4586-d8ae-adedecd7af64"
      },
      "execution_count": null,
      "outputs": [
        {
          "output_type": "stream",
          "name": "stdout",
          "text": [
            "El total de la suma de los número pares del 0-10= 30\n"
          ]
        }
      ]
    },
    {
      "cell_type": "markdown",
      "source": [
        "**Taller Profundización**\n",
        "Ejercicios: https://drive.google.com/file/d/1L2Tn9iTSnSJlskALvM2hBpOBUEJdcwLL/view?usp=sharing"
      ],
      "metadata": {
        "id": "6WZPH7ZqRMNN"
      }
    }
  ]
}