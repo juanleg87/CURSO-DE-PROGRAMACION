{
  "nbformat": 4,
  "nbformat_minor": 0,
  "metadata": {
    "colab": {
      "provenance": []
    },
    "kernelspec": {
      "name": "python3",
      "display_name": "Python 3"
    },
    "language_info": {
      "name": "python"
    }
  },
  "cells": [
    {
      "cell_type": "markdown",
      "source": [
        "CURSO PYTHON COLSUBSIDIO Juan Leguizamo"
      ],
      "metadata": {
        "id": "s51vPwUb6EWe"
      }
    },
    {
      "cell_type": "code",
      "execution_count": null,
      "metadata": {
        "colab": {
          "base_uri": "https://localhost:8080/"
        },
        "id": "40OytXvMGJg-",
        "outputId": "f09a7d03-5514-42e3-e999-a2375e29cc85"
      },
      "outputs": [
        {
          "output_type": "stream",
          "name": "stdout",
          "text": [
            "Hola mundo Soy juan\n"
          ]
        }
      ],
      "source": [
        "print(\"Hola mundo Soy juan\")"
      ]
    },
    {
      "cell_type": "markdown",
      "source": [
        "**VARIABLES**"
      ],
      "metadata": {
        "id": "Y_6EjCtZ53wp"
      }
    },
    {
      "cell_type": "code",
      "source": [
        "nombre = \"juan leguizamo\"\n",
        "print(nombre)\n",
        "telefono = 4552890\n",
        "print(telefono)\n"
      ],
      "metadata": {
        "colab": {
          "base_uri": "https://localhost:8080/"
        },
        "id": "9rlPRH-6SO_S",
        "outputId": "a1060603-bddd-43c4-e594-b48c5d114941"
      },
      "execution_count": 15,
      "outputs": [
        {
          "output_type": "stream",
          "name": "stdout",
          "text": [
            "juan leguizamo\n",
            "4552890\n"
          ]
        }
      ]
    },
    {
      "cell_type": "markdown",
      "source": [],
      "metadata": {
        "id": "NSHugZoh7No0"
      }
    },
    {
      "cell_type": "code",
      "source": [
        "nombre_per = input(\"digite su nombre\")\n",
        "print(nombre_per)"
      ],
      "metadata": {
        "id": "P86BCQJDWUA9"
      },
      "execution_count": null,
      "outputs": []
    }
  ]
}