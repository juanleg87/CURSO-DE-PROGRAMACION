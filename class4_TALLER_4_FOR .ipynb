{
  "nbformat": 4,
  "nbformat_minor": 0,
  "metadata": {
    "colab": {
      "provenance": []
    },
    "kernelspec": {
      "name": "python3",
      "display_name": "Python 3"
    },
    "language_info": {
      "name": "python"
    }
  },
  "cells": [
    {
      "cell_type": "markdown",
      "source": [
        "#**CICLO FOR**"
      ],
      "metadata": {
        "id": "oOorOZDTEJaB"
      }
    },
    {
      "cell_type": "markdown",
      "source": [
        "# **SOLUCION TALLER 4**"
      ],
      "metadata": {
        "id": "nmV_FLg-QgBr"
      }
    },
    {
      "cell_type": "markdown",
      "source": [
        "1. Crear un bucle que cuente todos los números pares hasta\n",
        "el 100 ciclo for"
      ],
      "metadata": {
        "id": "Mt9EOZB7RI18"
      }
    },
    {
      "cell_type": "code",
      "source": [
        "for i in range(0,100,2):\n",
        "  print(i)\n",
        "\n"
      ],
      "metadata": {
        "id": "Ntii6LFyRJxn"
      },
      "execution_count": null,
      "outputs": []
    },
    {
      "cell_type": "markdown",
      "source": [
        "2. Haz una tabla de multiplicar utilizando el ciclo for\n",
        "ciclo for"
      ],
      "metadata": {
        "id": "9_6ZkP9vUAry"
      }
    },
    {
      "cell_type": "code",
      "source": [
        "num = int(input(\"Digite el número de la tabla de multiplicar: \"))\n",
        "\n",
        "for i in range(11):\n",
        "  print(i, \" x \", num, \" = \",  i * num)"
      ],
      "metadata": {
        "colab": {
          "base_uri": "https://localhost:8080/"
        },
        "id": "Q8Yl_Fn-UN6O",
        "outputId": "af0d2f61-e217-4e15-b80b-85286b15c7b2"
      },
      "execution_count": null,
      "outputs": [
        {
          "output_type": "stream",
          "name": "stdout",
          "text": [
            "Digite el número de la tabla de multiplicar: 10\n",
            "0  x  10  =  0\n",
            "1  x  10  =  10\n",
            "2  x  10  =  20\n",
            "3  x  10  =  30\n",
            "4  x  10  =  40\n",
            "5  x  10  =  50\n",
            "6  x  10  =  60\n",
            "7  x  10  =  70\n",
            "8  x  10  =  80\n",
            "9  x  10  =  90\n",
            "10  x  10  =  100\n"
          ]
        }
      ]
    },
    {
      "cell_type": "markdown",
      "source": [
        "3. Escribir un programa que pregunte al usuario su edad y\n",
        "muestre por pantalla todos los años que ha cumplido\n",
        "(desde 1 hasta su edad). ciclo for"
      ],
      "metadata": {
        "id": "olN4xNLmUdib"
      }
    },
    {
      "cell_type": "code",
      "source": [
        "nombre_per = input(\"Digite su Nombre\")\n",
        "edad = input(\"cuantos años tienes\")\n",
        "\n",
        "for i in range(1,15,):\n",
        "  print(i)"
      ],
      "metadata": {
        "id": "shGyASIJXrN4"
      },
      "execution_count": null,
      "outputs": []
    },
    {
      "cell_type": "markdown",
      "source": [
        "4. Escribir un programa que pida al usuario un número entero\n",
        "positivo y muestre por pantalla todos los números\n",
        "impares desde 1 hasta ese número separados por comas."
      ],
      "metadata": {
        "id": "jlxRNNU1aD3O"
      }
    },
    {
      "cell_type": "code",
      "source": [
        "#captura de usuario \n",
        "usuario = input(\"Digite su usuario: \")\n",
        "usu = \"12\"\n",
        "if usuario == usu:\n",
        "    print(\"EL usuario es correcto!\")\n",
        "\n",
        "    # rango de impares\n",
        "for i in range(0,12,3):\n",
        "  print(i)\n",
        "\n"
      ],
      "metadata": {
        "colab": {
          "base_uri": "https://localhost:8080/"
        },
        "id": "C_QtTEDWagiS",
        "outputId": "d346960f-353e-4d32-8e30-577e4a5a9cfa"
      },
      "execution_count": 22,
      "outputs": [
        {
          "output_type": "stream",
          "name": "stdout",
          "text": [
            "Digite su usuario: 12\n",
            "EL usuario es correcto!\n",
            "0\n",
            "3\n",
            "6\n",
            "9\n"
          ]
        }
      ]
    },
    {
      "cell_type": "markdown",
      "source": [
        "5. Encuentra la suma de todos los números pares del 1 al\n",
        "100 ciclo for"
      ],
      "metadata": {
        "id": "TZk2j3VQb9ir"
      }
    },
    {
      "cell_type": "code",
      "source": [
        "# variables acumuladoras\n",
        "acu = 0\n",
        "\n",
        "for i in range(0,100,3):\n",
        "  # print(i)\n",
        "  acu = acu + i\n",
        "print(f\"El total de la suma de los número impares del 0-100= {acu}\")"
      ],
      "metadata": {
        "colab": {
          "base_uri": "https://localhost:8080/"
        },
        "id": "HGZceepncdgV",
        "outputId": "b270fd11-0afa-4cb3-9b3d-fb8472a13a51"
      },
      "execution_count": 29,
      "outputs": [
        {
          "output_type": "stream",
          "name": "stdout",
          "text": [
            "El total de la suma de los número impares del 0-100= 1683\n"
          ]
        }
      ]
    },
    {
      "cell_type": "markdown",
      "source": [
        "# ***CLASE***"
      ],
      "metadata": {
        "id": "RKouPc4hcfKE"
      }
    },
    {
      "cell_type": "code",
      "execution_count": null,
      "metadata": {
        "colab": {
          "base_uri": "https://localhost:8080/"
        },
        "id": "Y-sg3qYJEFYI",
        "outputId": "b195dc58-22c8-4070-f0aa-7f1a6c8c9aca"
      },
      "outputs": [
        {
          "output_type": "stream",
          "name": "stdout",
          "text": [
            "456789\n"
          ]
        }
      ],
      "source": [
        "for z in [456789]:\n",
        "  print(z)"
      ]
    },
    {
      "cell_type": "code",
      "source": [],
      "metadata": {
        "id": "nd_wD8hWREC4"
      },
      "execution_count": null,
      "outputs": []
    },
    {
      "cell_type": "code",
      "source": [
        "for J in (10,20,30,40):\n",
        "  print(J)"
      ],
      "metadata": {
        "colab": {
          "base_uri": "https://localhost:8080/"
        },
        "id": "cKcH39BRNn-Z",
        "outputId": "a0b90111-a1b4-4dab-e3a4-77a68c744bcf"
      },
      "execution_count": null,
      "outputs": [
        {
          "output_type": "stream",
          "name": "stdout",
          "text": [
            "10\n",
            "20\n",
            "30\n",
            "40\n"
          ]
        }
      ]
    },
    {
      "cell_type": "markdown",
      "source": [
        "#***CICLOS REPETITIVOS***"
      ],
      "metadata": {
        "id": "bI1elqysEHu4"
      }
    },
    {
      "cell_type": "code",
      "source": [
        "for w in \"te amo valentina\":\n",
        "  print(w)"
      ],
      "metadata": {
        "colab": {
          "base_uri": "https://localhost:8080/"
        },
        "id": "QFK734rJNu5D",
        "outputId": "defe1af5-02c8-4fd6-f1bb-dd1470ee15ba"
      },
      "execution_count": null,
      "outputs": [
        {
          "output_type": "stream",
          "name": "stdout",
          "text": [
            "t\n",
            "e\n",
            " \n",
            "a\n",
            "m\n",
            "o\n",
            " \n",
            "v\n",
            "a\n",
            "l\n",
            "e\n",
            "n\n",
            "t\n",
            "i\n",
            "n\n",
            "a\n"
          ]
        }
      ]
    },
    {
      "cell_type": "markdown",
      "source": [],
      "metadata": {
        "id": "0u-EhvuHWBhY"
      }
    },
    {
      "cell_type": "code",
      "source": [
        "for w in \"juan Andres\":\n",
        "  print(w)"
      ],
      "metadata": {
        "colab": {
          "base_uri": "https://localhost:8080/"
        },
        "id": "zmzNVEXVNzNB",
        "outputId": "1689ffbc-b858-43fa-c15b-5907d61c9c36"
      },
      "execution_count": null,
      "outputs": [
        {
          "output_type": "stream",
          "name": "stdout",
          "text": [
            "j\n",
            "u\n",
            "a\n",
            "n\n",
            " \n",
            "A\n",
            "n\n",
            "d\n",
            "r\n",
            "e\n",
            "s\n"
          ]
        }
      ]
    },
    {
      "cell_type": "markdown",
      "source": [
        "**FUNCIÓN Range(start, stop, step)**"
      ],
      "metadata": {
        "id": "q3kx6wZpODS5"
      }
    },
    {
      "cell_type": "markdown",
      "source": [
        "cuando solo se pasa 1 parámetro a la función Range por default (stop)"
      ],
      "metadata": {
        "id": "n54ekXulOE1M"
      }
    },
    {
      "cell_type": "code",
      "source": [
        "for i in range(0,100,2):\n",
        "  print(i)"
      ],
      "metadata": {
        "id": "3rcmNWO5OGxM"
      },
      "execution_count": null,
      "outputs": []
    },
    {
      "cell_type": "code",
      "source": [
        "nombre = input(\"Digite su nombre: \")\n",
        "\n",
        "for i in range(6):\n",
        "  print(i, nombre)"
      ],
      "metadata": {
        "colab": {
          "base_uri": "https://localhost:8080/"
        },
        "id": "M-gEPMhoO5rY",
        "outputId": "f63316e6-2060-4e91-9cfe-7c94d819abc1"
      },
      "execution_count": null,
      "outputs": [
        {
          "output_type": "stream",
          "name": "stdout",
          "text": [
            "Digite su nombre: Diana\n",
            "0 Diana\n",
            "1 Diana\n",
            "2 Diana\n",
            "3 Diana\n",
            "4 Diana\n",
            "5 Diana\n"
          ]
        }
      ]
    },
    {
      "cell_type": "markdown",
      "source": [
        "Escribir un programa que realice la tabla de multiplicar de un número digitado por teclado"
      ],
      "metadata": {
        "id": "XnSB4sW0PMv-"
      }
    },
    {
      "cell_type": "code",
      "source": [
        "num = int(input(\"Digite el número de la tabla de multiplicar: \"))\n",
        "\n",
        "for i in range(11):\n",
        "  print(i, \" x \", num, \" = \",  i * num)"
      ],
      "metadata": {
        "colab": {
          "base_uri": "https://localhost:8080/"
        },
        "id": "AVbCF2w2PPIC",
        "outputId": "4377610e-05e2-40fd-9c3e-6647a9cd597f"
      },
      "execution_count": null,
      "outputs": [
        {
          "output_type": "stream",
          "name": "stdout",
          "text": [
            "Digite el número de la tabla de multiplicar: 8\n",
            "0  x  8  =  0\n",
            "1  x  8  =  8\n",
            "2  x  8  =  16\n",
            "3  x  8  =  24\n",
            "4  x  8  =  32\n",
            "5  x  8  =  40\n",
            "6  x  8  =  48\n",
            "7  x  8  =  56\n",
            "8  x  8  =  64\n",
            "9  x  8  =  72\n",
            "10  x  8  =  80\n"
          ]
        }
      ]
    },
    {
      "cell_type": "markdown",
      "source": [
        "Escriba un programa que me sume los números pares del 0 al 10 y saque el total de la suma."
      ],
      "metadata": {
        "id": "6NHembOqP4CU"
      }
    },
    {
      "cell_type": "code",
      "source": [
        "# variables acumuladoras\n",
        "acu = 0\n",
        "\n",
        "for i in range(0,11,2):\n",
        "  # print(i)\n",
        "  acu = acu + i\n",
        "print(f\"El total de la suma de los número pares del 0-10= {acu}\")"
      ],
      "metadata": {
        "colab": {
          "base_uri": "https://localhost:8080/"
        },
        "id": "za2e-ocgP4rK",
        "outputId": "05b57049-3d92-4297-9ddd-b2d26afa0134"
      },
      "execution_count": 23,
      "outputs": [
        {
          "output_type": "stream",
          "name": "stdout",
          "text": [
            "El total de la suma de los número pares del 0-10= 30\n"
          ]
        }
      ]
    },
    {
      "cell_type": "markdown",
      "source": [
        "**Taller Profundización**\n",
        "Ejercicios: https://drive.google.com/file/d/1L2Tn9iTSnSJlskALvM2hBpOBUEJdcwLL/view?usp=sharing"
      ],
      "metadata": {
        "id": "6WZPH7ZqRMNN"
      }
    }
  ]
}